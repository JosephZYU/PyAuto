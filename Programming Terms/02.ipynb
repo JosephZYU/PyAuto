{
  "nbformat": 4,
  "nbformat_minor": 0,
  "metadata": {
    "colab": {
      "name": "⬜ White Board ✍.ipynb",
      "provenance": [],
      "collapsed_sections": [],
      "mount_file_id": "1QcltDfTI6y43Sh0nag8lwv3rckcIn9y2",
      "authorship_tag": "ABX9TyNEyLydP4ZvJbZzN5mrhoDw"
    },
    "kernelspec": {
      "name": "python3",
      "display_name": "Python 3"
    }
  },
  "cells": [
    {
      "cell_type": "code",
      "metadata": {
        "id": "cvfhrC7jYiJZ",
        "outputId": "98a8c085-7500-4bc5-95e9-44da5db6372f",
        "colab": {
          "base_uri": "https://localhost:8080/",
          "height": 34
        }
      },
      "source": [
        "# ✅ Division 🆚 Floor Division (Integer Division) 🆚 Remainder\n",
        "\n",
        "list(range(1, 11))"
      ],
      "execution_count": null,
      "outputs": [
        {
          "output_type": "execute_result",
          "data": {
            "text/plain": [
              "[1, 2, 3, 4, 5, 6, 7, 8, 9, 10]"
            ]
          },
          "metadata": {
            "tags": []
          },
          "execution_count": 12
        }
      ]
    },
    {
      "cell_type": "code",
      "metadata": {
        "id": "5khuJbiCYiJa",
        "outputId": "0f17e07c-5863-4864-9e5a-6b72572cf6d8",
        "colab": {
          "base_uri": "https://localhost:8080/",
          "height": 185
        }
      },
      "source": [
        "for i in list(range(1, 11)):\n",
        "  print(i % 2) # Reminder: ONLY 0 or 1 (if divided by 2) ⚡🧠"
      ],
      "execution_count": null,
      "outputs": [
        {
          "output_type": "stream",
          "text": [
            "1\n",
            "0\n",
            "1\n",
            "0\n",
            "1\n",
            "0\n",
            "1\n",
            "0\n",
            "1\n",
            "0\n"
          ],
          "name": "stdout"
        }
      ]
    },
    {
      "cell_type": "code",
      "metadata": {
        "id": "36gLG_OEYiJa",
        "outputId": "09d01e32-3c4b-4dd9-ef2b-f925a783f09f",
        "colab": {
          "base_uri": "https://localhost:8080/",
          "height": 185
        }
      },
      "source": [
        "for i in list(range(1, 11)):\n",
        "  print(i / 2) # Division"
      ],
      "execution_count": null,
      "outputs": [
        {
          "output_type": "stream",
          "text": [
            "0.5\n",
            "1.0\n",
            "1.5\n",
            "2.0\n",
            "2.5\n",
            "3.0\n",
            "3.5\n",
            "4.0\n",
            "4.5\n",
            "5.0\n"
          ],
          "name": "stdout"
        }
      ]
    },
    {
      "cell_type": "code",
      "metadata": {
        "id": "D9hSq10_YiJb",
        "outputId": "487fa6a0-1260-4ea2-c712-7e42a6f1e9ff",
        "colab": {
          "base_uri": "https://localhost:8080/",
          "height": 185
        }
      },
      "source": [
        "for i in list(range(1, 11)):\n",
        "  print(i // 2) # Floored-division or Integer Division"
      ],
      "execution_count": null,
      "outputs": [
        {
          "output_type": "stream",
          "text": [
            "0\n",
            "1\n",
            "1\n",
            "2\n",
            "2\n",
            "3\n",
            "3\n",
            "4\n",
            "4\n",
            "5\n"
          ],
          "name": "stdout"
        }
      ]
    },
    {
      "cell_type": "code",
      "metadata": {
        "id": "6X6Pxt2VOge-"
      },
      "source": [
        "# ✅ Review on the difference between \n",
        "# result.append 🆚 result.extend"
      ],
      "execution_count": null,
      "outputs": []
    },
    {
      "cell_type": "code",
      "metadata": {
        "id": "-p4dvqmlYiJe",
        "outputId": "f1a1bd3a-ac34-4e8a-8d90-303564466540",
        "colab": {
          "base_uri": "https://localhost:8080/",
          "height": 34
        }
      },
      "source": [
        "# ⚡🧠 append: insert a List into another List\n",
        "# Append will perverse the originial pattern of the list\n",
        "\n",
        "num_list = list(range(1, 6))\n",
        "\n",
        "my_list = ['Joseph', 'Yu']\n",
        "\n",
        "\n",
        "num_list.append(my_list)\n",
        "\n",
        "print(num_list)"
      ],
      "execution_count": null,
      "outputs": [
        {
          "output_type": "stream",
          "text": [
            "[1, 2, 3, 4, 5, ['Joseph', 'Yu']]\n"
          ],
          "name": "stdout"
        }
      ]
    },
    {
      "cell_type": "code",
      "metadata": {
        "id": "FbAJ9U7SYiJe",
        "outputId": "9c64049a-9efb-476d-83a6-7e5f2cb761f9",
        "colab": {
          "base_uri": "https://localhost:8080/",
          "height": 34
        }
      },
      "source": [
        "num_list = list(range(1, 6))\n",
        "\n",
        "my_list = ['Joseph', 'Yu']\n",
        "\n",
        "\n",
        "my_list.append(num_list)\n",
        "\n",
        "print(my_list)"
      ],
      "execution_count": null,
      "outputs": [
        {
          "output_type": "stream",
          "text": [
            "['Joseph', 'Yu', [1, 2, 3, 4, 5]]\n"
          ],
          "name": "stdout"
        }
      ]
    },
    {
      "cell_type": "code",
      "metadata": {
        "id": "3HVTRXsWYiJb",
        "outputId": "831c69c6-8fc6-4fbd-89a1-ecb45bdde455",
        "colab": {
          "base_uri": "https://localhost:8080/",
          "height": 34
        }
      },
      "source": [
        "# 1 of 2 Extend: break every single element into pieces, then append to list\n",
        "# Extend will break the original list pattern\n",
        "# 👍 most use cases\n",
        "\n",
        "num_list = list(range(1, 6))\n",
        "\n",
        "my_list = ['Joseph', 'Yu']\n",
        "\n",
        "\n",
        "num_list.extend(my_list)\n",
        "\n",
        "print(num_list)"
      ],
      "execution_count": null,
      "outputs": [
        {
          "output_type": "stream",
          "text": [
            "[1, 2, 3, 4, 5, 'Joseph', 'Yu']\n"
          ],
          "name": "stdout"
        }
      ]
    },
    {
      "cell_type": "code",
      "metadata": {
        "id": "3IPg4XOrYiJd",
        "outputId": "275b3e30-28c6-404d-ed28-86cd6a55b28b",
        "colab": {
          "base_uri": "https://localhost:8080/",
          "height": 34
        }
      },
      "source": [
        "# 2 of 2 Extend: break every single element into piecces, then append to list\n",
        "# extend('String') will break all letters into atomic pieces\n",
        "# 👀 It even includes the space ' ' as an element - BE CAUTIOUS\n",
        "\n",
        "num_list = list(range(1, 6))\n",
        "\n",
        "num_list.extend('Joseph Yu')\n",
        "\n",
        "print(num_list)"
      ],
      "execution_count": null,
      "outputs": [
        {
          "output_type": "stream",
          "text": [
            "[1, 2, 3, 4, 5, 'J', 'o', 's', 'e', 'p', 'h', ' ', 'Y', 'u']\n"
          ],
          "name": "stdout"
        }
      ]
    }
  ]
}
